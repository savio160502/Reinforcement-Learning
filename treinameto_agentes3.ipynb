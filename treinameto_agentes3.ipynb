{
  "nbformat": 4,
  "nbformat_minor": 0,
  "metadata": {
    "colab": {
      "provenance": [],
      "gpuType": "T4"
    },
    "kernelspec": {
      "name": "python3",
      "display_name": "Python 3"
    },
    "language_info": {
      "name": "python"
    },
    "accelerator": "GPU"
  },
  "cells": [
    {
      "cell_type": "code",
      "source": [
        "#!pip install pylint gymnasium stable_baselines3 shimmy"
      ],
      "metadata": {
        "id": "-WgFKeKngRXS"
      },
      "execution_count": 3,
      "outputs": []
    },
    {
      "cell_type": "code",
      "source": [
        "import os\n",
        "\n",
        "os.environ[\"CUDA_LAUNCH_BLOCKING\"] = \"1\""
      ],
      "metadata": {
        "id": "iVvAsQQ-AT6m"
      },
      "execution_count": 1,
      "outputs": []
    },
    {
      "cell_type": "code",
      "source": [
        "import gymnasium as gym\n",
        "import subprocess\n",
        "import torch\n",
        "import os\n",
        "from transformers import pipeline\n",
        "from sklearn.metrics.pairwise import cosine_similarity\n",
        "import random\n",
        "import numpy as np\n",
        "from stable_baselines3 import PPO\n",
        "from stable_baselines3.common.logger import configure\n",
        "from transformers import AutoTokenizer, AutoModel"
      ],
      "metadata": {
        "id": "p14Z1ipAWIA1"
      },
      "execution_count": 4,
      "outputs": []
    },
    {
      "cell_type": "code",
      "source": [
        "# Verificar o uso da GPU\n",
        "device = torch.device(\"cuda\" if torch.cuda.is_available() else \"cpu\")\n",
        "\n",
        "# # Inicialização de tokenizer e modelo CodeBERT\n",
        "# tokenizer = AutoTokenizer.from_pretrained(\"microsoft/codebert-base\")\n",
        "# model_codebert = AutoModel.from_pretrained(\"microsoft/codebert-base\").to(device)\n",
        "\n",
        "# # Pipeline de classificação para o feedback\n",
        "# feedback_classifier = pipeline('sentiment-analysis', model='roberta-base')\n",
        "\n",
        "# # Modelos LLM para Codificador e Revisor\n",
        "# codificador_llm = pipeline('text-generation', model='Salesforce/codegen-350M-mono', device=0 if torch.cuda.is_available() else -1)\n",
        "# revisor_llm = pipeline('text-generation', model='Salesforce/codegen-350M-mono', device=0 if torch.cuda.is_available() else -1)\n",
        "\n",
        "# Configuração do logger do TensorBoard\n",
        "# new_logger = configure('./tensorboard_logs/', [\"stdout\", \"tensorboard\"])\n",
        "\n",
        "device\n",
        "\n",
        "# device = \"cpu\"\n",
        "# device"
      ],
      "metadata": {
        "id": "poZjNBoxNo9l",
        "colab": {
          "base_uri": "https://localhost:8080/"
        },
        "outputId": "4f65a83b-9535-496a-cebb-6c5dfac334b7"
      },
      "execution_count": 3,
      "outputs": [
        {
          "output_type": "execute_result",
          "data": {
            "text/plain": [
              "device(type='cuda')"
            ]
          },
          "metadata": {},
          "execution_count": 3
        }
      ]
    },
    {
      "cell_type": "markdown",
      "source": [
        "# Função para Embeddings"
      ],
      "metadata": {
        "id": "O3O_YEoCN9bA"
      }
    },
    {
      "cell_type": "code",
      "source": [
        "# Definir o modelo CodeBERT para embeddings de código\n",
        "class CodeBERTEmbeddingModel:\n",
        "    def __init__(self):\n",
        "        # Carregar o modelo e o tokenizer do CodeBERT\n",
        "        self.tokenizer = AutoTokenizer.from_pretrained(\"microsoft/codebert-base\")\n",
        "        self.model = AutoModel.from_pretrained(\"microsoft/codebert-base\")\n",
        "\n",
        "    def embed(self, codigo):\n",
        "        \"\"\"\n",
        "        Gera os embeddings do código usando CodeBERT.\n",
        "        \"\"\"\n",
        "        inputs = self.tokenizer(codigo, return_tensors=\"pt\", padding=True, truncation=True)\n",
        "        with torch.no_grad():\n",
        "            outputs = self.model(**inputs)\n",
        "        # Retorna os embeddings do último hidden state\n",
        "        return outputs.last_hidden_state.mean(dim=1).numpy()"
      ],
      "metadata": {
        "id": "-ANyRZB1N-WS"
      },
      "execution_count": 5,
      "outputs": []
    },
    {
      "cell_type": "markdown",
      "source": [
        "# Configurando ambiente"
      ],
      "metadata": {
        "id": "dqxiB2uGvInC"
      }
    },
    {
      "cell_type": "code",
      "source": [
        "class CooperativeCodingEnv(gym.Env):\n",
        "    def __init__(self):\n",
        "        super(CooperativeCodingEnv, self).__init__()\n",
        "\n",
        "        # Modelos LLM para Codificador e Revisor\n",
        "        self.codificador_llm = pipeline('text-generation', model='Salesforce/codegen-350M-mono', device=0 if torch.cuda.is_available() else -1)\n",
        "        self.revisor_llm = pipeline('text-generation', model='Salesforce/codegen-350M-mono', device=0 if torch.cuda.is_available() else -1)\n",
        "        #self.codificador_llm = pipeline('text-generation', model='Salesforce/codegen-350M-mono', device=-1)\n",
        "        #self.revisor_llm = pipeline('text-generation', model='Salesforce/codegen-350M-mono', device=-1)\n",
        "\n",
        "\n",
        "        # Modelo de embeddings de código com CodeBERT\n",
        "        self.embedding_model = CodeBERTEmbeddingModel()\n",
        "\n",
        "        # Espaço de ações e observações\n",
        "        self.observation_space = gym.spaces.Box(low=-np.inf, high=np.inf, shape=(768,))  # Embedding de código\n",
        "        self.action_space = gym.spaces.Discrete(2)  # 0: manter código, 1: refatorar código\n",
        "\n",
        "        # Outras variáveis do ambiente\n",
        "        self.codigo_atual = \"\"\n",
        "        self.relatorios_revisores = []\n",
        "        self.state = None\n",
        "        self.best_code = None\n",
        "        self.best_reward = -float('inf')  # Inicializa com uma recompensa muito baixa\n",
        "\n",
        "    def reset(self, seed=None):\n",
        "        # Reset do ambiente, inicializando o código e a comunicação entre os agentes\n",
        "        prompt_inicial = \"Você é um codificador e precisa escrever um código Python para análise temporal de vendas no arquivo Walmart.csv .\"\n",
        "        self.codigo_atual = self.gerar_codigo(prompt_inicial)\n",
        "        self.relatorios_revisores = []\n",
        "        self.state = self.obter_embedding_codigo(self.codigo_atual)\n",
        "        return self.state,{}\n",
        "\n",
        "    def step(self, action):\n",
        "        # Aplica a ação escolhida e calcula as recompensas\n",
        "        if len(self.relatorios_revisores) == 0:\n",
        "          action = 0\n",
        "\n",
        "        if action == 0:\n",
        "            # Mantém o código atual, pede revisão\n",
        "            relatorio = self.gerar_feedback(self.codigo_atual)\n",
        "            self.relatorios_revisores.append(relatorio)\n",
        "\n",
        "        elif action == 1:\n",
        "            prompt_refatoracao = f\"O revisor sugeriu refatorações. Aqui está o feedback: {self.relatorios_revisores[-1]}. Refatore o código.\"\n",
        "            self.codigo_atual = self.gerar_codigo(prompt_refatoracao)\n",
        "\n",
        "        # Verifica a qualidade e executabilidade do código\n",
        "        qualidade_antiga = self.checar_qualidade_codigo(self.codigo_atual)\n",
        "        executavel_antigo = self.executar_codigo(self.codigo_atual)\n",
        "\n",
        "        # Obtém o feedback do revisor e refatora o código se necessário\n",
        "        if action == 1 and len(self.relatorios_revisores) > 0:\n",
        "            feedback = self.relatorios_revisores[-1]\n",
        "            self.codigo_atual = self.gerar_codigo(f\"Refatore o código: {feedback}\")\n",
        "\n",
        "        qualidade_nova = self.checar_qualidade_codigo(self.codigo_atual)\n",
        "        executavel_novo = self.executar_codigo(self.codigo_atual)\n",
        "\n",
        "        # Recompensa para o Codificador\n",
        "        recompensa_codificador = 0\n",
        "        if qualidade_nova:\n",
        "            recompensa_codificador += 10\n",
        "        if executavel_novo:\n",
        "            recompensa_codificador += 10\n",
        "\n",
        "        # Recompensa para o Revisor\n",
        "        recompensa_revisor = 0\n",
        "        if qualidade_nova and qualidade_nova > qualidade_antiga:\n",
        "            recompensa_revisor += 5  # O código melhorou com base no feedback\n",
        "        if executavel_novo and not executavel_antigo:\n",
        "            recompensa_revisor += 5  # O código se tornou executável graças ao feedback\n",
        "\n",
        "        # Log de recompensas\n",
        "        print(f\"Recompensa Codificador: {recompensa_codificador}\")\n",
        "        print(f\"Recompensa Revisor: {recompensa_revisor}\")\n",
        "\n",
        "        # Recompensa combinada\n",
        "        recompensa_total = recompensa_codificador + recompensa_revisor\n",
        "\n",
        "        # Verifica se a nova recompensa total é melhor do que a anterior\n",
        "        if recompensa_total > self.best_reward:\n",
        "            self.best_reward = recompensa_total\n",
        "            self.best_code = self.codigo_atual  # Armazena o melhor código\n",
        "\n",
        "        # Atualiza o estado com o novo embedding\n",
        "        self.state = self.obter_embedding_codigo(self.codigo_atual)\n",
        "\n",
        "        # Verifica se o episódio terminou\n",
        "        done = qualidade_nova and executavel_novo\n",
        "\n",
        "        # Truncate pode ser False, exceto se houver um critério específico para truncamento\n",
        "        truncated = False\n",
        "\n",
        "        # Retorna a observação, recompensa (codificador e revisor), se o episódio terminou, se foi truncado e informações adicionais\n",
        "        return self.state, recompensa_total, done, truncated, {}\n",
        "\n",
        "    def render(self):\n",
        "        # Visualização do ambiente\n",
        "        print(f\"Código atual:\\n{self.codigo_atual}\")\n",
        "        print(f\"Relatórios do revisor: {self.relatorios_revisores}\")\n",
        "\n",
        "    def gerar_codigo(self, prompt):\n",
        "        \"\"\"\n",
        "        Gera o código a partir do LLM do Codificador.\n",
        "        \"\"\"\n",
        "        response = self.codificador_llm(prompt, max_new_tokens=100, num_return_sequences=1)\n",
        "        codigo = response[0]['generated_text']\n",
        "        return codigo\n",
        "\n",
        "    def gerar_feedback(self, codigo):\n",
        "        \"\"\"\n",
        "        Gera feedback do código usando o LLM do Revisor.\n",
        "        \"\"\"\n",
        "        prompt = f\"Você é um revisor de código. Aqui está o código: {codigo}. Dê feedback detalhado sobre melhorias, erros e refatorações.\"\n",
        "        response = self.revisor_llm(prompt, max_new_tokens=100, num_return_sequences=1)\n",
        "        feedback = response[0]['generated_text']\n",
        "        return feedback\n",
        "\n",
        "    def obter_embedding_codigo(self, codigo):\n",
        "        \"\"\"\n",
        "        Usa CodeBERT para obter a representação vetorial do código.\n",
        "        \"\"\"\n",
        "        embedding = self.embedding_model.embed(codigo)\n",
        "        return embedding\n",
        "\n",
        "    def checar_qualidade_codigo(self, codigo):\n",
        "        \"\"\"\n",
        "        Usa pylint para verificar a qualidade do código.\n",
        "        \"\"\"\n",
        "        try:\n",
        "            # Escreve o código para um arquivo temporário\n",
        "            with open(\"temp_code.py\", \"w\") as f:\n",
        "                f.write(codigo)\n",
        "\n",
        "            # Executa pylint no código\n",
        "            result = subprocess.run([\"pylint\", \"temp_code.py\"], capture_output=True, text=True)\n",
        "\n",
        "            # Imprime o relatório do pylint\n",
        "            print(\"Relatório do pylint:\")\n",
        "            print(result.stdout)\n",
        "\n",
        "            # Retorna True se o código está \"limpo\" o suficiente (score acima de 5, por exemplo)\n",
        "            score_line = [line for line in result.stdout.splitlines() if line.startswith(\"Your code has been rated at\")]\n",
        "            if score_line:\n",
        "                score = float(score_line[0].split(\"/\")[0].split(\"at\")[-1].strip())\n",
        "                return score >= 5  # Exemplo de critério: score acima de 5\n",
        "            return False\n",
        "\n",
        "        except Exception as e:\n",
        "            print(f\"Erro ao verificar o código com pylint: {str(e)}\")\n",
        "            return False\n",
        "\n",
        "    def executar_codigo(self, codigo):\n",
        "        \"\"\"\n",
        "        Testa se o código gerado é executável.\n",
        "        \"\"\"\n",
        "        try:\n",
        "            # Escreve o código para um arquivo temporário\n",
        "            with open(\"temp_code.py\", \"w\") as f:\n",
        "                f.write(codigo)\n",
        "\n",
        "            # Executa o código em um subprocesso e verifica se roda sem erros\n",
        "            result = subprocess.run([\"python3\", \"temp_code.py\"], capture_output=True, text=True)\n",
        "\n",
        "            # Verifica a saída do código\n",
        "            if result.returncode == 0:\n",
        "                print(\"Código executado com sucesso!\")\n",
        "                return True\n",
        "            else:\n",
        "                print(f\"Erro na execução do código: {result.stderr}\")\n",
        "                return False\n",
        "\n",
        "        except Exception as e:\n",
        "            print(f\"Erro ao tentar executar o código: {str(e)}\")\n",
        "            return False"
      ],
      "metadata": {
        "id": "xkeRlfnLYeFX"
      },
      "execution_count": 7,
      "outputs": []
    },
    {
      "cell_type": "markdown",
      "source": [
        "# Treinamento do modelo"
      ],
      "metadata": {
        "id": "zIHvw1pQiU4g"
      }
    },
    {
      "cell_type": "code",
      "source": [
        "# Inicializa o ambiente\n",
        "env = CooperativeCodingEnv()\n",
        "\n",
        "# Configura o logger\n",
        "new_logger = configure(folder=\"./logs\", format_strings=[\"stdout\", \"csv\", \"tensorboard\"])\n",
        "\n",
        "# Configura o modelo PPO\n",
        "model = PPO(\"MlpPolicy\", env, verbose=1, device=device)\n",
        "model.set_logger(new_logger)\n",
        "\n",
        "# Treinar o modelo\n",
        "model.learn(total_timesteps=10000)\n",
        "\n",
        "# Resultados\n",
        "print(\"\\nMelhor código gerado durante o treinamento:\\n\")\n",
        "print(env.best_code)\n",
        "\n",
        "# Escreve o melhor código em um arquivo\n",
        "with open(\"best_code.py\", \"w\") as f:\n",
        "    f.write(env.best_code)\n",
        "\n",
        "# Testa o código executando-o diretamente\n",
        "print(\"\\nTestando o código perfeito:\\n\")\n",
        "result = subprocess.run([\"python3\", \"best_code.py\"], capture_output=True, text=True)\n",
        "\n",
        "# Verifica o resultado da execução\n",
        "if result.returncode == 0:\n",
        "    print(\"Código perfeito executado com sucesso!\")\n",
        "    print(f\"Saída: {result.stdout}\")\n",
        "else:\n",
        "    print(f\"Erro na execução do código perfeito: {result.stderr}\")"
      ],
      "metadata": {
        "colab": {
          "base_uri": "https://localhost:8080/"
        },
        "id": "rmPI8KQXhOIU",
        "outputId": "468bfa33-e218-4bd9-fe50-50bd3d3a590f"
      },
      "execution_count": null,
      "outputs": [
        {
          "output_type": "stream",
          "name": "stderr",
          "text": [
            "/usr/local/lib/python3.10/dist-packages/huggingface_hub/utils/_token.py:89: UserWarning: \n",
            "The secret `HF_TOKEN` does not exist in your Colab secrets.\n",
            "To authenticate with the Hugging Face Hub, create a token in your settings tab (https://huggingface.co/settings/tokens), set it as secret in your Google Colab and restart your session.\n",
            "You will be able to reuse this secret in all of your notebooks.\n",
            "Please note that authentication is recommended but still optional to access public models or datasets.\n",
            "  warnings.warn(\n",
            "/usr/local/lib/python3.10/dist-packages/transformers/tokenization_utils_base.py:1601: FutureWarning: `clean_up_tokenization_spaces` was not set. It will be set to `True` by default. This behavior will be depracted in transformers v4.45, and will be then set to `False` by default. For more details check this issue: https://github.com/huggingface/transformers/issues/31884\n",
            "  warnings.warn(\n"
          ]
        },
        {
          "output_type": "stream",
          "name": "stdout",
          "text": [
            "Logging to ./logs\n"
          ]
        },
        {
          "output_type": "stream",
          "name": "stderr",
          "text": [
            "Setting `pad_token_id` to `eos_token_id`:50256 for open-end generation.\n"
          ]
        },
        {
          "output_type": "stream",
          "name": "stdout",
          "text": [
            "Using cuda device\n",
            "Wrapping the env with a `Monitor` wrapper\n",
            "Wrapping the env in a DummyVecEnv.\n"
          ]
        },
        {
          "output_type": "stream",
          "name": "stderr",
          "text": [
            "Setting `pad_token_id` to `eos_token_id`:50256 for open-end generation.\n"
          ]
        },
        {
          "output_type": "stream",
          "name": "stdout",
          "text": [
            "Relatório do pylint:\n",
            "************* Module temp_code\n",
            "temp_code.py:1:6: E0001: Parsing failed: 'invalid syntax (temp_code, line 1)' (syntax-error)\n",
            "\n",
            "Erro na execução do código:   File \"/content/temp_code.py\", line 1\n",
            "    Você é um codificador e precisa escrever um código Python para análise temporal de vendas no arquivo Walmart.csv . Faça a leitura e escrita em um arquivo.\n",
            "          ^^\n",
            "SyntaxError: invalid syntax\n",
            "\n",
            "Relatório do pylint:\n",
            "************* Module temp_code\n",
            "temp_code.py:1:6: E0001: Parsing failed: 'invalid syntax (temp_code, line 1)' (syntax-error)\n",
            "\n",
            "Erro na execução do código:   File \"/content/temp_code.py\", line 1\n",
            "    Você é um codificador e precisa escrever um código Python para análise temporal de vendas no arquivo Walmart.csv . Faça a leitura e escrita em um arquivo.\n",
            "          ^^\n",
            "SyntaxError: invalid syntax\n",
            "\n",
            "Recompensa Codificador: 0\n",
            "Recompensa Revisor: 0\n"
          ]
        },
        {
          "output_type": "stream",
          "name": "stderr",
          "text": [
            "Setting `pad_token_id` to `eos_token_id`:50256 for open-end generation.\n"
          ]
        },
        {
          "output_type": "stream",
          "name": "stdout",
          "text": [
            "Relatório do pylint:\n",
            "************* Module temp_code\n",
            "temp_code.py:1:6: E0001: Parsing failed: 'invalid syntax (temp_code, line 1)' (syntax-error)\n",
            "\n",
            "Erro na execução do código:   File \"/content/temp_code.py\", line 1\n",
            "    Você é um codificador e precisa escrever um código Python para análise temporal de vendas no arquivo Walmart.csv . Faça a leitura e escrita em um arquivo.\n",
            "          ^^\n",
            "SyntaxError: invalid syntax\n",
            "\n",
            "Relatório do pylint:\n",
            "************* Module temp_code\n",
            "temp_code.py:1:6: E0001: Parsing failed: 'invalid syntax (temp_code, line 1)' (syntax-error)\n",
            "\n",
            "Erro na execução do código:   File \"/content/temp_code.py\", line 1\n",
            "    Você é um codificador e precisa escrever um código Python para análise temporal de vendas no arquivo Walmart.csv . Faça a leitura e escrita em um arquivo.\n",
            "          ^^\n",
            "SyntaxError: invalid syntax\n",
            "\n",
            "Recompensa Codificador: 0\n",
            "Recompensa Revisor: 0\n"
          ]
        },
        {
          "output_type": "stream",
          "name": "stderr",
          "text": [
            "Setting `pad_token_id` to `eos_token_id`:50256 for open-end generation.\n",
            "Setting `pad_token_id` to `eos_token_id`:50256 for open-end generation.\n"
          ]
        },
        {
          "output_type": "stream",
          "name": "stdout",
          "text": [
            "Relatório do pylint:\n",
            "************* Module temp_code\n",
            "temp_code.py:1:3: E0001: Parsing failed: 'invalid syntax (temp_code, line 1)' (syntax-error)\n",
            "\n",
            "Erro na execução do código:   File \"/content/temp_code.py\", line 1\n",
            "    O revisor sugeriu refatorações. Aqui está o feedback: Você é um revisor de código. Aqui está o código: Você é um codificador e precisa escrever um código Python para análise temporal de vendas no arquivo Walmart.csv . Faça a leitura e escrita em um arquivo.\n",
            "      ^^^^^^^\n",
            "SyntaxError: invalid syntax\n",
            "\n",
            "Relatório do pylint:\n",
            "************* Module temp_code\n",
            "temp_code.py:1:10: E0001: Parsing failed: 'invalid syntax (temp_code, line 1)' (syntax-error)\n",
            "\n",
            "Erro na execução do código:   File \"/content/temp_code.py\", line 1\n",
            "    Refatore o código: Você é um revisor de código. Aqui está o código: Você é um codificador e precisa escrever um código Python para análise temporal de vendas no arquivo Walmart.csv . Faça a leitura e escrita em um arquivo.\n",
            "             ^\n",
            "SyntaxError: invalid syntax\n",
            "\n",
            "Recompensa Codificador: 0\n",
            "Recompensa Revisor: 0\n"
          ]
        },
        {
          "output_type": "stream",
          "name": "stderr",
          "text": [
            "Setting `pad_token_id` to `eos_token_id`:50256 for open-end generation.\n",
            "Setting `pad_token_id` to `eos_token_id`:50256 for open-end generation.\n"
          ]
        },
        {
          "output_type": "stream",
          "name": "stdout",
          "text": [
            "Relatório do pylint:\n",
            "************* Module temp_code\n",
            "temp_code.py:7:2: E0001: Parsing failed: 'unterminated string literal (detected at line 7) (temp_code, line 7)' (syntax-error)\n",
            "\n",
            "Erro na execução do código:   File \"/content/temp_code.py\", line 7\n",
            "    .' Tente outra coisa.\n",
            "     ^\n",
            "SyntaxError: unterminated string literal (detected at line 7)\n",
            "\n",
            "Relatório do pylint:\n",
            "************* Module temp_code\n",
            "temp_code.py:1:10: E0001: Parsing failed: 'invalid syntax (temp_code, line 1)' (syntax-error)\n",
            "\n",
            "Erro na execução do código:   File \"/content/temp_code.py\", line 1\n",
            "    Refatore o código: Você é um revisor de código. Aqui está o código: Você é um codificador e precisa escrever um código Python para análise temporal de vendas no arquivo Walmart.csv . Faça a leitura e escrita em um arquivo.\n",
            "             ^\n",
            "SyntaxError: invalid syntax\n",
            "\n",
            "Recompensa Codificador: 0\n",
            "Recompensa Revisor: 0\n"
          ]
        },
        {
          "output_type": "stream",
          "name": "stderr",
          "text": [
            "Setting `pad_token_id` to `eos_token_id`:50256 for open-end generation.\n"
          ]
        },
        {
          "output_type": "stream",
          "name": "stdout",
          "text": [
            "Relatório do pylint:\n",
            "************* Module temp_code\n",
            "temp_code.py:1:10: E0001: Parsing failed: 'invalid syntax (temp_code, line 1)' (syntax-error)\n",
            "\n",
            "Erro na execução do código:   File \"/content/temp_code.py\", line 1\n",
            "    Refatore o código: Você é um revisor de código. Aqui está o código: Você é um codificador e precisa escrever um código Python para análise temporal de vendas no arquivo Walmart.csv . Faça a leitura e escrita em um arquivo.\n",
            "             ^\n",
            "SyntaxError: invalid syntax\n",
            "\n",
            "Relatório do pylint:\n",
            "************* Module temp_code\n",
            "temp_code.py:1:10: E0001: Parsing failed: 'invalid syntax (temp_code, line 1)' (syntax-error)\n",
            "\n",
            "Erro na execução do código:   File \"/content/temp_code.py\", line 1\n",
            "    Refatore o código: Você é um revisor de código. Aqui está o código: Você é um codificador e precisa escrever um código Python para análise temporal de vendas no arquivo Walmart.csv . Faça a leitura e escrita em um arquivo.\n",
            "             ^\n",
            "SyntaxError: invalid syntax\n",
            "\n",
            "Recompensa Codificador: 0\n",
            "Recompensa Revisor: 0\n"
          ]
        },
        {
          "output_type": "stream",
          "name": "stderr",
          "text": [
            "Setting `pad_token_id` to `eos_token_id`:50256 for open-end generation.\n"
          ]
        }
      ]
    },
    {
      "cell_type": "markdown",
      "source": [
        "# Teste do modelo"
      ],
      "metadata": {
        "id": "S0PubQqZ0VQn"
      }
    },
    {
      "cell_type": "code",
      "source": [
        "import matplotlib.pyplot as plt\n",
        "\n",
        "# Lista para armazenar recompensas ao longo do tempo\n",
        "rewards_history = []\n",
        "\n",
        "# Testar o modelo treinado\n",
        "obs = env.reset()\n",
        "for i in range(500):\n",
        "    action, _states = model.predict(obs)\n",
        "    obs, rewards, done, info = env.step(action)\n",
        "\n",
        "    rewards_history.append(rewards)  # Armazena a recompensa do episódio atual\n",
        "\n",
        "    env.render()\n",
        "\n",
        "    if done:\n",
        "        obs = env.reset()\n",
        "\n",
        "env.close()\n",
        "\n",
        "# Gerar o gráfico de recompensas\n",
        "plt.plot(rewards_history)\n",
        "plt.xlabel(\"Episódios\")\n",
        "plt.ylabel(\"Recompensa Total\")\n",
        "plt.title(\"Evolução das Recompensas ao Longo do Tempo\")\n",
        "plt.show()\n",
        "\n",
        "# Para carregar o modelo mais tarde\n",
        "# model = PPO.load(\"ppo_data_analysis\")"
      ],
      "metadata": {
        "id": "A-G8geNV0YPP"
      },
      "execution_count": null,
      "outputs": []
    },
    {
      "cell_type": "code",
      "source": [],
      "metadata": {
        "id": "KXUwCBeg1tk7"
      },
      "execution_count": null,
      "outputs": []
    },
    {
      "cell_type": "markdown",
      "source": [
        "# Visualizando dados de métricas de treinamento"
      ],
      "metadata": {
        "id": "as7qCQbejCtk"
      }
    },
    {
      "cell_type": "code",
      "source": [
        "import pandas as pd\n",
        "\n",
        "# Carregar o log CSV gerado\n",
        "log_data = pd.read_csv('/content/logs/progress.csv')\n",
        "\n",
        "# Visualizar as primeiras linhas\n",
        "print(log_data.head(20))"
      ],
      "metadata": {
        "id": "k84-oK33s8b2"
      },
      "execution_count": null,
      "outputs": []
    },
    {
      "cell_type": "code",
      "source": [],
      "metadata": {
        "id": "sSyFBErnhRRH"
      },
      "execution_count": null,
      "outputs": []
    }
  ]
}